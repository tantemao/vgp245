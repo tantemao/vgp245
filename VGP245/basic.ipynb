{
 "cells": [
  {
   "cell_type": "markdown",
   "metadata": {
    "collapsed": true
   },
   "source": [
    "#VGP 245\n",
    "## Class 1 - Python Basics\n",
    "\n",
    "### Introduction\n",
    "Python is a high-level programming language that is processed by the Python \"interpreter\" to produce results.\n",
    "Python includes a comprehensive standard library of tested code modules that can be easily incorporated into your own program.\n",
    "\n",
    "#### Facts\n",
    "\n",
    "Python was developed by _Guido van Rossum_ in the late 1980s and early 1990s at the National Research Institutue for Mathematics and Computer Science in the Netherlands.\n",
    "\n",
    "Python is derived from many other languages, including C, C++, the Unix shell, and other programming languages.\n",
    "\n",
    "Basic philosophy of the Python Language is readability (making easy for beginners to dive in)\n",
    "\n",
    "+ Beautiful is better than ugly.\n",
    "+ Explicit is better than implicit.\n",
    "+ Simple is better than complex.\n",
    "+ Complex is better than complicated.\n",
    "+ Readability counts.\n",
    "\n",
    "Python uses indentation to group together statements into code \"blocks\", whereas other languages may use keywords such as __begin__ and __end__ (i.e. Pascal) or __{}__ braces (i.e. C).  Main purpose is to uncluttered visual layout.\n",
    "\n",
    "#### What makes python a popular choice for beginners?\n",
    "\n",
    "+ is free\n",
    "+ is easy to learn\n",
    "+ is easy to read\n",
    "+ is easy to maintain\n",
    "+ is \"batteries include\" - provides a laege standard library for easy integration into your own program\n",
    "+ is interactive - has a terminal for debugging and testing snippets of code\n",
    "+ is portable - runs on a wide variety of hardware and platfroms\n",
    "+ is interpreted - no compilation required\n",
    "+ is high-level - has automatic memory management\n",
    "+ is extensible - allows the addition of low-level modules to the interpreter for customization\n",
    "+ is versatile - supports both procedure-orientated programming and object-orientated programming (OOP)\n",
    "+ is flexible - create console programs, windowed GUI apps, and CGI (Common Gateway Interface) scripts to process web data\n",
    "\n",
    "Final version of 2.7 is out, but the main focus of this course is on Python 3.6+\n",
    "\n",
    "\n",
    "\n"
   ]
  },
  {
   "cell_type": "code",
   "execution_count": 1,
   "metadata": {},
   "outputs": [
    {
     "name": "stdout",
     "output_type": "stream",
     "text": [
      "Hello Class\n"
     ]
    }
   ],
   "source": [
    "print(\"Hello Class\")"
   ]
  },
  {
   "cell_type": "markdown",
   "metadata": {},
   "source": [
    "name2=\"licheng\""
   ]
  },
  {
   "cell_type": "code",
   "execution_count": 2,
   "metadata": {},
   "outputs": [],
   "source": [
    "number=5"
   ]
  },
  {
   "cell_type": "markdown",
   "metadata": {},
   "source": [
    "number=number+5"
   ]
  },
  {
   "cell_type": "code",
   "execution_count": 3,
   "metadata": {},
   "outputs": [
    {
     "name": "stdout",
     "output_type": "stream",
     "text": [
      "5\n"
     ]
    }
   ],
   "source": [
    "print(number)"
   ]
  },
  {
   "cell_type": "code",
   "execution_count": 4,
   "metadata": {},
   "outputs": [],
   "source": [
    "number=5"
   ]
  },
  {
   "cell_type": "code",
   "execution_count": null,
   "metadata": {},
   "outputs": [],
   "source": [
    "number=5+5"
   ]
  },
  {
   "cell_type": "code",
   "execution_count": 5,
   "metadata": {},
   "outputs": [
    {
     "name": "stdout",
     "output_type": "stream",
     "text": [
      "5\n"
     ]
    }
   ],
   "source": [
    "print(number)"
   ]
  },
  {
   "cell_type": "code",
   "execution_count": 6,
   "metadata": {},
   "outputs": [],
   "source": [
    "numbers=3"
   ]
  },
  {
   "cell_type": "code",
   "execution_count": 7,
   "metadata": {},
   "outputs": [],
   "source": [
    "numbers=numbers+5"
   ]
  },
  {
   "cell_type": "code",
   "execution_count": 8,
   "metadata": {},
   "outputs": [
    {
     "name": "stdout",
     "output_type": "stream",
     "text": [
      "8\n"
     ]
    }
   ],
   "source": [
    "print(numbers)"
   ]
  },
  {
   "cell_type": "code",
   "execution_count": 9,
   "metadata": {},
   "outputs": [
    {
     "ename": "NameError",
     "evalue": "name 'mumbers' is not defined",
     "output_type": "error",
     "traceback": [
      "\u001b[0;31m---------------------------------------------------------------------------\u001b[0m",
      "\u001b[0;31mNameError\u001b[0m                                 Traceback (most recent call last)",
      "\u001b[0;32m<ipython-input-9-39c36cd9f23d>\u001b[0m in \u001b[0;36m<module>\u001b[0;34m()\u001b[0m\n\u001b[1;32m      1\u001b[0m \u001b[0mnumbers\u001b[0m\u001b[0;34m=\u001b[0m\u001b[0;36m3\u001b[0m\u001b[0;34m\u001b[0m\u001b[0m\n\u001b[0;32m----> 2\u001b[0;31m \u001b[0mnumbers\u001b[0m\u001b[0;34m=\u001b[0m\u001b[0mmumbers\u001b[0m\u001b[0;34m+\u001b[0m\u001b[0mnumbers\u001b[0m\u001b[0;34m\u001b[0m\u001b[0m\n\u001b[0m",
      "\u001b[0;31mNameError\u001b[0m: name 'mumbers' is not defined"
     ]
    }
   ],
   "source": [
    "numbers=3\n",
    "numbers=mumbers+numbers"
   ]
  },
  {
   "cell_type": "code",
   "execution_count": 10,
   "metadata": {},
   "outputs": [
    {
     "data": {
      "text/plain": [
       "'hello 2'"
      ]
     },
     "execution_count": 10,
     "metadata": {},
     "output_type": "execute_result"
    }
   ],
   "source": [
    "\"hello\"+\" 2\""
   ]
  },
  {
   "cell_type": "code",
   "execution_count": 11,
   "metadata": {},
   "outputs": [],
   "source": [
    "price=79.99\n",
    "tax=0.12"
   ]
  },
  {
   "cell_type": "code",
   "execution_count": 12,
   "metadata": {},
   "outputs": [],
   "source": [
    "total=price*(1+tax)"
   ]
  },
  {
   "cell_type": "code",
   "execution_count": 13,
   "metadata": {},
   "outputs": [
    {
     "name": "stdout",
     "output_type": "stream",
     "text": [
      "89.5888\n"
     ]
    }
   ],
   "source": [
    "print(total)"
   ]
  },
  {
   "cell_type": "code",
   "execution_count": null,
   "metadata": {},
   "outputs": [],
   "source": []
  }
 ],
 "metadata": {
  "kernelspec": {
   "display_name": "Python 3",
   "language": "python",
   "name": "python3"
  },
  "language_info": {
   "codemirror_mode": {
    "name": "ipython",
    "version": 3
   },
   "file_extension": ".py",
   "mimetype": "text/x-python",
   "name": "python",
   "nbconvert_exporter": "python",
   "pygments_lexer": "ipython3",
   "version": "3.7.0"
  }
 },
 "nbformat": 4,
 "nbformat_minor": 1
}
